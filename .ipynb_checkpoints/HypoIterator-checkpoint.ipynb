{
 "cells": [
  {
   "cell_type": "code",
   "execution_count": 1,
   "id": "2702baf6",
   "metadata": {},
   "outputs": [],
   "source": [
    "from nltk.parse.generate import generate, demo_grammar\n",
    "from nltk import CFG"
   ]
  },
  {
   "cell_type": "code",
   "execution_count": 36,
   "id": "bc483328",
   "metadata": {},
   "outputs": [
    {
     "name": "stdout",
     "output_type": "stream",
     "text": [
      "Grammar with 32 productions (start state = root)\n",
      "    root -> hypo\n",
      "    hypo -> '(' expr op expr ')' '[' pred ']'\n",
      "    hypo -> expr op expr\n",
      "    hypo -> hypo '&' hypo\n",
      "    expr -> func '(' subexpr ')'\n",
      "    expr -> var\n",
      "    subexpr -> expr\n",
      "    subexpr -> subexpr ',' subexpr\n",
      "    subexpr -> ' '\n",
      "    var -> attr\n",
      "    var -> '(' attr ')' '[' pred '] '\n",
      "    var -> const\n",
      "    pred -> var op const\n",
      "    pred -> pred '&' pred\n",
      "    op -> '='\n",
      "    op -> '<'\n",
      "    op -> '>'\n",
      "    attr -> 'Title'\n",
      "    attr -> 'Year'\n",
      "    attr -> 'Genre'\n",
      "    attr -> 'Rating'\n",
      "    attr -> 'Cost'\n",
      "    attr -> 'Market'\n",
      "    const -> 'number'\n",
      "    const -> 'string'\n",
      "    func -> 'AVG'\n",
      "    func -> 'KS'\n",
      "    func -> 'LM'\n",
      "    func -> 'SRES'\n",
      "    func -> 'MAX'\n",
      "    func -> 'SUB'\n",
      "    func -> 'COUNT'\n"
     ]
    }
   ],
   "source": [
    "hypo_string = \"\"\"root -> hypo\n",
    "        hypo -> '(' expr op expr ')' '[' pred ']' | expr op expr | hypo '&' hypo\n",
    "        expr -> func '(' subexpr ')' | var\n",
    "        subexpr -> expr | subexpr ',' subexpr | ' '\n",
    "        var -> attr | '(' attr ')' '[' pred '] '| const\n",
    "        pred -> var op const | pred '&' pred\n",
    "        op -> '=' | '<' | '>' \n",
    "        attr -> 'Title' | 'Year' | 'Genre' | 'Rating' | 'Cost' | 'Market'\n",
    "        const -> 'number' | 'string'\n",
    "        func -> 'AVG' | 'KS' | 'LM' | 'SRES' | 'MAX' | 'SUB' | 'COUNT'\n",
    "        \"\"\"\n",
    "# print(test_grammar)\n",
    "hypo_grammar = CFG.fromstring(hypo_string)\n",
    "print(hypo_grammar)"
   ]
  },
  {
   "cell_type": "code",
   "execution_count": null,
   "id": "f0976aa1",
   "metadata": {},
   "outputs": [],
   "source": [
    "for sentence in generate(hypo_grammar, n=10):\n",
    "    print(' '.join(sentence))"
   ]
  }
 ],
 "metadata": {
  "kernelspec": {
   "display_name": "Python 3 (ipykernel)",
   "language": "python",
   "name": "python3"
  },
  "language_info": {
   "codemirror_mode": {
    "name": "ipython",
    "version": 3
   },
   "file_extension": ".py",
   "mimetype": "text/x-python",
   "name": "python",
   "nbconvert_exporter": "python",
   "pygments_lexer": "ipython3",
   "version": "3.7.10"
  }
 },
 "nbformat": 4,
 "nbformat_minor": 5
}
